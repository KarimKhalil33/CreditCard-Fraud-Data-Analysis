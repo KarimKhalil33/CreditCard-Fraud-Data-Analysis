{
 "cells": [
  {
   "cell_type": "markdown",
   "id": "e466078d-544f-45b4-a5c6-340e0ce63293",
   "metadata": {},
   "source": [
    "### UNUSED CODE"
   ]
  },
  {
   "cell_type": "code",
   "execution_count": null,
   "id": "43072e52-8423-47b8-88f6-abb952610ade",
   "metadata": {},
   "outputs": [],
   "source": [
    "mask = np.triu(np.ones_like(df.corr(), dtype=bool))\n",
    "sns.set_theme(style=\"ticks\")\n",
    "g = sns.pairplot(df, hue=\"fraud\", palette='GnBu', diag_kind=\"hist\", corner=True)\n",
    "g.map_upper(lambda x, y: plt.gca().set_visible(False))\n",
    "plt.show()"
   ]
  }
 ],
 "metadata": {
  "kernelspec": {
   "display_name": "Python 3 (ipykernel)",
   "language": "python",
   "name": "python3"
  },
  "language_info": {
   "codemirror_mode": {
    "name": "ipython",
    "version": 3
   },
   "file_extension": ".py",
   "mimetype": "text/x-python",
   "name": "python",
   "nbconvert_exporter": "python",
   "pygments_lexer": "ipython3",
   "version": "3.10.8"
  }
 },
 "nbformat": 4,
 "nbformat_minor": 5
}
