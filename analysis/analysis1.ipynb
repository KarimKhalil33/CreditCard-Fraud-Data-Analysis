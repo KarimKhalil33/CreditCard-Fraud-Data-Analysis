{
 "cells": [
  {
   "cell_type": "markdown",
   "metadata": {},
   "source": [
    "# Ruwaida Rashid"
   ]
  },
  {
   "cell_type": "markdown",
   "metadata": {},
   "source": [
    "## **To what extent can the distance from last point of transaction made with a specific credit card or the median total spent on a sale be said to contribute to the possibility of credit card fraud?**\n",
    "\n",
    "I have an interest in data privacy and breaches and with the limited statistical and python knowledge I believe this credit card fraud analysis allows me to gain the basic technical knowledge needed to further understand the techniques involved in further complex data analysis. \n",
    " Following the factors associated with a credit card transaction, I would like to understand if a trend exists between the distance from last location of transaction with the same credit card and a fraudulent transaction. Given the complexity of real life scenarios, I am also interested to know if higher median transaction suggests a greater chance of fraudulent transaction going through."
   ]
  }
 ],
 "metadata": {
  "kernelspec": {
   "display_name": "Python 3 (ipykernel)",
   "language": "python",
   "name": "python3"
  }
 },
 "nbformat": 4,
 "nbformat_minor": 4
}
