{
 "cells": [
  {
   "cell_type": "markdown",
   "id": "cfa3d487-e489-47c1-9190-b85276ae56be",
   "metadata": {},
   "source": [
    "# Ruwaida Rashid\n",
    "#### How can one establish a threshold of certainty above which a transaction can be classified as fraudulent by exploring distance from the last point of transaction, the ratio to median purchase price and if the transaction site was a repeat retailer?\n",
    "###### How is fraudulent transaction defined in the dataset?\n",
    "###### Does a relationship exist between these variables and chip and pin usage for verification purposes?\n",
    "###### Is there a correlation between the mode of transaction and the likelihood of a fraudulent transaction?\n",
    "I have an interest in data privacy and breaches, and with the limited statistical and python knowledge I believe this credit card fraud analysis allows me to gain the basic technical knowledge needed to further understand the techniques involved in further complex data analysis. Following the factors associated with a credit card transaction, I would like to understand if a trend exists between the distance from last location of transaction with the same credit card and a fraudulent transaction. Given the complexity of real life scenarios, I am also interested to know if higher median transaction suggests a greater chance of fraudulent transaction going through. In addition to which, if the point of transaction being a repeat retailer suggest a specific spending pattern that can contribute to higher chances of fraudulent transactions going through."
   ]
  }
 ],
 "metadata": {
  "kernelspec": {
   "display_name": "Python 3 (ipykernel)",
   "language": "python",
   "name": "python3"
  },
  "language_info": {
   "codemirror_mode": {
    "name": "ipython",
    "version": 3
   },
   "file_extension": ".py",
   "mimetype": "text/x-python",
   "name": "python",
   "nbconvert_exporter": "python",
   "pygments_lexer": "ipython3",
   "version": "3.10.8"
  }
 },
 "nbformat": 4,
 "nbformat_minor": 5
}
