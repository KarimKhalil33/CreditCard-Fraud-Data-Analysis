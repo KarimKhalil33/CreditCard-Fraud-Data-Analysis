{
 "cells": [
  {
   "cell_type": "markdown",
   "metadata": {},
   "source": [
    "# Aditya Sunilkumar"
   ]
  },
  {
   "cell_type": "markdown",
   "metadata": {},
   "source": [
    "**What relation does the distance from home attribute have with a transaction being made using chip or pin number and how does that affect the likelihood of the transaction being considered as fraudulent?**## \n",
    "\n",
    "As a witness to my friend's experience with credit card fraud, I have become increasingly interested in the subject. In particular, I find the distance from home data points in our dataset to be of great significance in determining the likelihood of a credit card transaction being classified as fraudulent. To achieve an accurate prediction, it is crucial to conduct a thorough analysis of the trends and patterns within the dataset. By carefully examining the data and creating various graphs and charts for analysis, we can identify key indicators that will help us determine the likelihood of a fraudulent transaction. By analyzing the distance from home data points, we can gain insight into the typical patterns of a legitimate cardholder's spending behavior. This information can be used to establish a baseline for what is considered normal behavior for a cardholder in a particular location. Any transactions that deviate significantly from this baseline can then be flagged for further investigation, as they may be indicative of fraudulent activity. Overall, by utilizing advanced data analysis techniques, we can more accurately predict and prevent credit card fraud, ultimately protecting both individuals and businesses from financial losses."
   ]
  }
 ],
 "metadata": {
  "kernelspec": {
   "display_name": "Python 3 (ipykernel)",
   "language": "python",
   "name": "python3"
  }
 },
 "nbformat": 4,
 "nbformat_minor": 4
}
