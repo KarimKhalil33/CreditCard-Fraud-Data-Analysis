{
 "cells": [
  {
   "cell_type": "markdown",
   "metadata": {},
   "source": [
    "# Karim Khalil"
   ]
  },
  {
   "cell_type": "markdown",
   "metadata": {},
   "source": [
    "## Research question/interests\r\n",
    "\r\n",
    "**How does the likelihood of credit card fraud differ between online and offline purchases?** \n Exploratory data analysis: I plan to conduct descriptive research on the credit card fraud dataset to identify patterns and trends in the data. Which includes examining the distribution of fraud cases, the frequency of online vs offline purchases, as well as any correlations between different variables. The description of the research question is basically going help identify if purchasing products online will affect the chances of one to getting involved with a credit card fraud or not."
   ]
  }
 ],
 "metadata": {},
 "nbformat": 4,
 "nbformat_minor": 2
}
