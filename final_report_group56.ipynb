{
 "cells": [
  {
   "cell_type": "markdown",
   "id": "70c14261-ff1c-4789-a12d-9873c5b7cb98",
   "metadata": {},
   "source": [
    "# **Introduction**"
   ]
  },
  {
   "cell_type": "markdown",
   "id": "2d907daf-0598-4f6a-bbbf-2ea00e738684",
   "metadata": {},
   "source": [
    "Given our combined interest in financial crime and security, we had chosen a credit card transaction dataset with over a million entries. Initially we were excited to independently explore how variables associated with credit card usage impact the authenticity of a transaction however as we dived deeper into the variability of our dataset, our project scope focused on finding if there exists a relationship between each of the variables available to us and if one could make effective and consistent prediction regarding the occurence of credit card fraud. Our individual focuses were:\n",
    "\n",
    "- How can one ascertain a fraudulent transaction which used a pin number or a chip by analysing the distance from the previous transaction, the ratio of the purchase price to the median price, and whether the transaction was made at a recurring retailer?\n",
    "- How does the distance from home affect the likelihood of credit card fraud in both online and offline transactions?\n",
    "- What relation does the distance from home and distance from last transaction attribute have when a transaction is made using CHIP. How does that affect the likelihood of the transaction being considered as fraudulent?"
   ]
  },
  {
   "cell_type": "markdown",
   "id": "3320209b-23b6-48e8-94ef-346e54359ef8",
   "metadata": {},
   "source": [
    "---"
   ]
  },
  {
   "cell_type": "markdown",
   "id": "ba92f315-0870-4ddc-8da3-7f7daefd4ac5",
   "metadata": {},
   "source": [
    "# **Exploratory Data Analysis**"
   ]
  },
  {
   "cell_type": "markdown",
   "id": "add36af8-63db-4b2d-b34a-fa07ac8dce46",
   "metadata": {},
   "source": [
    "#### We began by working with an extensive dataset, which included a million datapoints. To simplify the data, we narrowed down our focus on several variables, such as distance from home, last transaction, and ratio to median purchase price. Subsequently, we delved deeper into exploratory data analysis using fundamental techniques like .describe, .info, and .corr. However, despite our efforts, we were unable to extract any clear correlations or obtain substantial insights by reducing the dataset. Consequently, we opted to use the groupby function, with each member of our team assigned a specific variable to examine, which ultimately provided us with a much more comprehensive understanding of our data. We created various illustrative plots, including violinplots, barplots,heatmaps, and scatterplots ####"
   ]
  },
  {
   "cell_type": "markdown",
   "id": "2f0b1e82-7d1a-47c0-8821-0015849df9de",
   "metadata": {},
   "source": [
    "## Figure 1: #\n",
    "In the following figure is a heatmap with a groupby function on distance from home, which helped us identify several strong correlations right away, such as fraud vs. distance from home and used chip vs. distance from the last transaction. This facilitated a more in-depth analysis of our data, with a solidified understanding of what to expect in the future."
   ]
  },
  {
   "cell_type": "markdown",
   "id": "43a79c9f-83ff-4d75-a3c5-c72b95ccbd2f",
   "metadata": {},
   "source": [
    "![Heatmap](../images/karim_heatmap.png)"
   ]
  },
  {
   "cell_type": "markdown",
   "id": "ed4ab8d3-ffd8-4b41-bfcd-899b004d12cf",
   "metadata": {},
   "source": [
    "## Figure 2"
   ]
  },
  {
   "cell_type": "markdown",
   "id": "dbe90a4b-b0f2-4f62-9039-c03dc25df8a8",
   "metadata": {},
   "source": [
    "![Stacked](images/Ru_stackedbarplot.png)"
   ]
  },
  {
   "cell_type": "markdown",
   "id": "407350c6-7203-461e-b3ca-b45f961e6dce",
   "metadata": {},
   "source": [
    "Another focus of the dataset was on the transactions that specifically used either chips or pin number for authentication purposes and in the initial stages of EDA, this stacked barplot explores how the distribution of these transactions that can be categorised into fraud and legitimate transactions uses chips and pin numbers. For the transactions that used pin numbers, there is a steady proportion of transactions that are both fraud and authentic transactions. This allowed us to conclude that the use of pin number to authenticate a transaction cannot be used as a variable to ascertain the likelihood of a a fraudulent transaction occuring. The same cannot be said about the use of chips. 90% of the fraudulent transactions use chips to authenticate the transaction as compared valid transactions which have close to 85% using chips. "
   ]
  },
  {
   "cell_type": "markdown",
   "id": "c08fb83f-429e-4f1b-871c-c0e1606a1dd6",
   "metadata": {},
   "source": [
    "## Figure 3"
   ]
  },
  {
   "cell_type": "markdown",
   "id": "dcbf39f9-3fed-46a4-8f1c-41347b296baf",
   "metadata": {},
   "source": [
    "In the figure below, we can see a clear visualization of the count of fraudulent and legitimate transactions when the chip is used. It is seen that the count of frauds when chip is used in the transaction, is very low compared to when the chip isn't used. Hence we can say that the likihood of fraudulent transaction being made with chip is very low. "
   ]
  },
  {
   "cell_type": "markdown",
   "id": "0255402b-9530-4a50-b347-33b0d7db33e7",
   "metadata": {},
   "source": [
    "![chip vs fraud](../images/adi/chip_fraud.png)"
   ]
  },
  {
   "cell_type": "markdown",
   "id": "890bb1f1-125c-4e8f-a90c-29d6d4ea2f5e",
   "metadata": {},
   "source": [
    "---"
   ]
  },
  {
   "cell_type": "markdown",
   "id": "b9f2db9d-2ead-4841-b532-cce32f4a6fe6",
   "metadata": {},
   "source": [
    "# **Research Questions**"
   ]
  },
  {
   "cell_type": "markdown",
   "id": "7c2d509c-bedc-49ad-a113-c7c82b63ba74",
   "metadata": {},
   "source": [
    "### **How can one ascertain a fraudulent transaction which used a pin number or a chip by analysing the distance from the previous transaction, the ratio of the purchase price to the median price, and whether the transaction was made at a recurring retailer?**"
   ]
  },
  {
   "cell_type": "markdown",
   "id": "7c15c105-0fd6-49fa-8420-4f12c821ef40",
   "metadata": {},
   "source": [
    "I have decided to explore sub-research questions which focused on the individual variables. The following explores one of the variables in answering the broader research question. To further understand how the research question was answered through exploration, see full Analysis [here](analysis/analysis1.ipynb). "
   ]
  },
  {
   "cell_type": "markdown",
   "id": "e103a0d1-ff55-47ff-8da1-a6b73c0ce865",
   "metadata": {},
   "source": [
    "![Heatmap](images/Ru_ViolinPlot.png)"
   ]
  },
  {
   "cell_type": "markdown",
   "id": "9d22defd-bf75-489b-a316-fe1281d08872",
   "metadata": {},
   "source": [
    "From the violin plot, there is a clear distribution influx when the ratio to median purchase price is within the range -20 to 20 for both fraudulent and non-fraudulent transactions. Although there are higher legitimate transactions (yellow) within lower ratios than fraudulent (blue), fraudulent transactions are distributed across a larger range of purchase ratio, from approximately -55 to 95 compared to the range of -25 to 90 for authentic transactions. One can infer that as the ratio to median purchase price increases, the likelihood of fraudulent transactions existing in that range increases than when the ratio is within a lower limit. It should be noted that a violin plot consists of kernel density plot on each side of the vertical axes, and the width of the kernel density plot is proportional to the density of the data at that point. \n",
    "In some cases, the density of the data at one end of the plot might be very small, resulting in a wide kernel density plot that extends below the horizontal axis. The negative values on the vertical axis could be attributed to such."
   ]
  },
  {
   "cell_type": "markdown",
   "id": "8af3bf0f-c052-4514-a98d-88d56abcc4a2",
   "metadata": {},
   "source": [
    "### Highlights & Takeaways"
   ]
  },
  {
   "cell_type": "markdown",
   "id": "c6c69943-49a0-46b0-b935-9bf62448691e",
   "metadata": {},
   "source": [
    "- Valid transactions are highly distributed within the range of -25 to 20 and with fraudulent transactions more dispersed across from -55 to 95.\n",
    "- As the ratio to median purchase price increases, the likelihood of fraudulent transactions existing in that range increases than when the ratio is within a lower limit."
   ]
  },
  {
   "cell_type": "markdown",
   "id": "29df964a-8290-461f-a1e9-631540d56e91",
   "metadata": {},
   "source": [
    "---"
   ]
  },
  {
   "cell_type": "markdown",
   "id": "ffed8a4d-9e9c-4528-a2a3-96877761fbec",
   "metadata": {},
   "source": [
    "### **How does the distance from home affect the likelihood of credit card fraud in both online and offline transactions?**"
   ]
  },
  {
   "cell_type": "markdown",
   "id": "3aa74bd8-8b1b-45c4-ae64-d6e0f3ccf79b",
   "metadata": {},
   "source": [
    "#### In order to answer this research question i have dived deeper into the dataset using the varibales distance from home, fraud, and online transactions. ####"
   ]
  },
  {
   "cell_type": "markdown",
   "id": "f9321354-f1c2-4606-9426-312bf6baffaa",
   "metadata": {},
   "source": [
    "## Figure 1:"
   ]
  },
  {
   "cell_type": "markdown",
   "id": "dc6d8316-ef53-419c-9f3e-ed45d64eabd0",
   "metadata": {},
   "source": [
    "![Heatmap](../images/karim_RQ1.png)"
   ]
  },
  {
   "cell_type": "markdown",
   "id": "9835ed3c-5e86-4964-b72b-418978485bc0",
   "metadata": {},
   "source": [
    "## Using this graph we can can summarize a few important claims about my research question.\n",
    "1) when the distance form home is <25 the probability of a fraud is approximaily 25-30%\n",
    "2) when the distance from home is >25 and <100 it's almost a 50% chance of detecting a fruad\n",
    "3) when the distance from home is >100 then the Probability increases up to 80-90%"
   ]
  },
  {
   "cell_type": "markdown",
   "id": "94fb4f8f-3adf-48e2-908f-74e54460097c",
   "metadata": {},
   "source": [
    "## Figure 2:"
   ]
  },
  {
   "cell_type": "markdown",
   "id": "327f23b2-df2b-4978-8f4b-d8adfc12869e",
   "metadata": {},
   "source": [
    "![Heatmap](../images/karim_RQ2.png)"
   ]
  },
  {
   "cell_type": "markdown",
   "id": "8913b47c-e104-42e3-ba7b-fccb1e7681e9",
   "metadata": {},
   "source": [
    "Using this boxplot we can analyze quite a few things! First would be that we can see off the bat that the chances of a transation being a fraud when it offline is very minimal but when it's online there is a much greater chance of it being a fraud. Now going a bit into details of the boxplot we can see that when the distance from home is less than 100 and it being online then the chances of a fraud is much higher. This graph is a very useful graph that will help us get close to answering our reserach question. That is because we see that frauds mainlt occur when the the payment was made online and when the dustance of the transaction. is less than 100. ####"
   ]
  },
  {
   "cell_type": "markdown",
   "id": "93a87a6a-091a-48e5-8135-9e7855e44487",
   "metadata": {},
   "source": [
    "### **What relation does the distance from home and distance from last transaction attribute have when a transaction is made using CHIP. How does that affect the likelihood of the transaction being considered as fraudulent?**"
   ]
  },
  {
   "cell_type": "markdown",
   "id": "b5936391-438c-468d-9cb0-3a6099a32c37",
   "metadata": {},
   "source": [
    "Let us look at a plot that shows fraudulent transactions that were made with and without chip at different distance from home. The plot below clearly shows that fraudulent transactions that were made without the use of chip fell within a much greater range of distance from home (approximatly 0 to 250) as opposed to non fraudulent transactions made without chip (approximately 0 to 50). We can also see that fraudulent transactions made with chip had a smaller range for distance from home as opposed to non fraudulent transactions made using chip."
   ]
  },
  {
   "cell_type": "markdown",
   "id": "ae96f7de-8d4c-42e7-911c-0a46a40f40a4",
   "metadata": {},
   "source": [
    "![dfh vs fraud for chip transactions](../images/adi/DFH_chip.png)"
   ]
  },
  {
   "cell_type": "markdown",
   "id": "41de21c7-4ade-478d-9ec2-f7472040f8ec",
   "metadata": {},
   "source": [
    "Now let us look at a plot that shows fraudulent transactions that were made with and without chip at different values for distance from last transaction. In general, all fraudulent transactions, disregarding the use of chip, fall in a very similar range for distance from last transaction. The use of chip however does very slightly increase the possibility of fraud in a transaction. As we can see from the plot, transactions that used chip have a slightly greater range for distance from last transaction. However, as per the deeper analysis conducted on this attribute, we can establish that there isn't a very strong correlation between this attribute (distance from last transaction) and fraud."
   ]
  },
  {
   "cell_type": "markdown",
   "id": "d785a10d-f483-4eb9-b2c0-a3b6ee2c97f3",
   "metadata": {},
   "source": [
    "<img src=\"../images/adi/DFLT_chip.png\" width=\"800\" />"
   ]
  },
  {
   "cell_type": "markdown",
   "id": "a19c4e67-d128-4ee7-831c-3afa50bb8e2b",
   "metadata": {},
   "source": [
    "---"
   ]
  },
  {
   "cell_type": "markdown",
   "id": "8187a892-2c32-409b-b63b-0debf9388465",
   "metadata": {},
   "source": [
    "# **Conclusions**"
   ]
  },
  {
   "cell_type": "markdown",
   "id": "2ccfb3c3-1b24-4f1b-8ee8-1c4e417efdd7",
   "metadata": {},
   "source": [
    "**After analyzing the data, the combination of an increase in ratio to median purchase and a decreased distane from last transaction can be said to contribute to a higher probability of witnessing fraudulent transactions. The analysis also indicates that as the distance from home increases, the likelihood of an order being online also increases, and as the distance from home increases, the chances of a fraud occurring also increases. However, there are almost no frauds detected when the transaction was made offline. By combining these findings, it can be concluded that as the distance from home increases and the transaction was made online, the likelihood of a fraudulent transaction significantly increases. Finally, the exploratory data analysis reveals that distance from home and distance from the last transaction are important variables to consider when detecting fraudulent transactions. Flagging transactions with larger values for distance from home and distances from last transaction makes them less likely to be fraudulent. Additionally, fraudulent transactions that did not use chip tend to have a maximum value of approximately 250, whereas fraudulent transactions that used chip have been made much closer to home with a maximum value of a little less than 50. Therefore, the possibility of a fraud is very low when the transaction is made using chip, providing useful insights for designing algorithms for fraud detection.**"
   ]
  }
 ],
 "metadata": {
  "kernelspec": {
   "display_name": "Python 3 (ipykernel)",
   "language": "python",
   "name": "python3"
  },
  "language_info": {
   "codemirror_mode": {
    "name": "ipython",
    "version": 3
   },
   "file_extension": ".py",
   "mimetype": "text/x-python",
   "name": "python",
   "nbconvert_exporter": "python",
   "pygments_lexer": "ipython3",
   "version": "3.10.8"
  }
 },
 "nbformat": 4,
 "nbformat_minor": 5
}
