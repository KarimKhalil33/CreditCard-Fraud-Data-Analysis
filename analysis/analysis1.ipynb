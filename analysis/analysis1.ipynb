{
 "cells": [
  {
   "cell_type": "markdown",
   "metadata": {},
   "source": [
    "# Ruwaida Rashid"
   ]
  },
  {
   "cell_type": "markdown",
   "metadata": {},
   "source": [
    "## **To what extent can the distance from last point of transaction made with a specific credit card or the median total spent on a sale be said to contribute to the possibility of credit card fraud?**\r\n",
    "\r\n",
    "I have an interest in data privacy and breaches and with the limited statistical and python knowledge I believe this credit card fraud analysis allows me to gain the basic technical knowledge needed to further understand the techniques involved in further complex data analysis."
   ]
  }
 ],
 "metadata": {},
 "nbformat": 4,
 "nbformat_minor": 2
}
