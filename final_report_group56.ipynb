{
 "cells": [
  {
   "cell_type": "markdown",
   "id": "70c14261-ff1c-4789-a12d-9873c5b7cb98",
   "metadata": {},
   "source": [
    "# **Introduction**"
   ]
  },
  {
   "cell_type": "markdown",
   "id": "2d907daf-0598-4f6a-bbbf-2ea00e738684",
   "metadata": {},
   "source": [
    "Given our combined interest in financial crime and security, we had chosen a credit card transaction dataset with over a million entries. Initially we were excited to independently explore how variables associated with credit card usage impact the authenticity of a transaction however as we dived deeper into the variability of our dataset, our project scope focused on finding if there exists a relationship between each of the variables available to us and if one could make effective and consistent prediction regarding the occurence of credit card fraud. Our individual focuses were:\n",
    "\n",
    "- How can one ascertain a fraudulent transaction which used a pin number or a chip by analysing the distance from the previous transaction, the ratio of the purchase price to the median price, and whether the transaction was made at a recurring retailer?\n",
    "- How does the distance from home affect the likelihood of credit card fraud in both online and offline transactions?\n",
    "- What relation does the distance from home and distance from last transaction attribute have when a transaction is made using CHIP. How does that affect the likelihood of the transaction being considered as fraudulent?"
   ]
  },
  {
   "cell_type": "markdown",
   "id": "ba92f315-0870-4ddc-8da3-7f7daefd4ac5",
   "metadata": {},
   "source": [
    "# **Exploratory Data Analysis**"
   ]
  },
  {
   "cell_type": "markdown",
   "id": "571989fd-3297-4e0e-9ab4-6169de797108",
   "metadata": {},
   "source": [
    "**im pretty sure all of ours is supp to be together for the eda so im j gonna add my stuff under mine u guys add under urs and then we combine all together with the plots and stuff.**"
   ]
  },
  {
   "cell_type": "markdown",
   "id": "2e63ebf5-a2d6-4784-a453-c0f15264bbf2",
   "metadata": {},
   "source": [
    "### Ruwaida's EDA"
   ]
  },
  {
   "cell_type": "code",
   "execution_count": null,
   "id": "bc73dfbb-d591-4371-936f-ca355811494e",
   "metadata": {},
   "outputs": [],
   "source": []
  },
  {
   "cell_type": "markdown",
   "id": "88325e08-6634-435d-ba7c-075c101db3c1",
   "metadata": {},
   "source": [
    "---"
   ]
  },
  {
   "cell_type": "markdown",
   "id": "f7e6b553-8d40-4a1a-8386-e0a16074e587",
   "metadata": {},
   "source": [
    "### Karim's EDA"
   ]
  },
  {
   "cell_type": "code",
   "execution_count": null,
   "id": "ea73df9f-daf9-46e4-a3e1-efb306bee01a",
   "metadata": {},
   "outputs": [],
   "source": []
  },
  {
   "cell_type": "markdown",
   "id": "890bb1f1-125c-4e8f-a90c-29d6d4ea2f5e",
   "metadata": {},
   "source": [
    "---"
   ]
  },
  {
   "cell_type": "markdown",
   "id": "3885e971-a404-41c1-83af-e8c617d3ca30",
   "metadata": {},
   "source": [
    "### Aditya's EDA"
   ]
  },
  {
   "cell_type": "markdown",
   "id": "44361945-c927-4b70-a022-4a74dca81759",
   "metadata": {},
   "source": [
    "When we talk about all the attributes present in our dataset, we can establish some very clear relations between some attrbutes and fraud, whereas some do not have anny correlation at all. So talking about the distance from home and distance fom last transactoin attributes, we were able to establish a clear relation that as distance from home increases, the likelihood of fraud increases as well. However, the distance from last transaction attribute doesn't have any evident correlation with fraud"
   ]
  },
  {
   "cell_type": "markdown",
   "id": "b9f2db9d-2ead-4841-b532-cce32f4a6fe6",
   "metadata": {},
   "source": [
    "#### Research Question/Results"
   ]
  },
  {
   "cell_type": "markdown",
   "id": "7c2d509c-bedc-49ad-a113-c7c82b63ba74",
   "metadata": {},
   "source": [
    "**How can one ascertain a fraudulent transaction which used a pin number or a chip by analysing the distance from the previous transaction, the ratio of the purchase price to the median price, and whether the transaction was made at a recurring retailer?**"
   ]
  },
  {
   "cell_type": "code",
   "execution_count": null,
   "id": "a723f280-f8df-4f14-b2b6-b02574c578bd",
   "metadata": {},
   "outputs": [],
   "source": []
  },
  {
   "cell_type": "markdown",
   "id": "ffed8a4d-9e9c-4528-a2a3-96877761fbec",
   "metadata": {},
   "source": [
    "**How does the distance from home affect the likelihood of credit card fraud in both online and offline transactions?**"
   ]
  },
  {
   "cell_type": "code",
   "execution_count": null,
   "id": "9a8fd868-86b4-4fca-8dd7-9fc2e40452d5",
   "metadata": {},
   "outputs": [],
   "source": []
  },
  {
   "cell_type": "markdown",
   "id": "93a87a6a-091a-48e5-8135-9e7855e44487",
   "metadata": {},
   "source": [
    "**What relation does the distance from home and distance from last transaction attribute have when a transaction is made using CHIP. How does that affect the likelihood of the transaction being considered as fraudulent?**"
   ]
  },
  {
   "cell_type": "code",
   "execution_count": null,
   "id": "d210c6f7-7d71-4424-b05c-a72b064d3e3f",
   "metadata": {},
   "outputs": [],
   "source": []
  },
  {
   "cell_type": "markdown",
   "id": "a19c4e67-d128-4ee7-831c-3afa50bb8e2b",
   "metadata": {},
   "source": [
    "---"
   ]
  },
  {
   "cell_type": "markdown",
   "id": "8187a892-2c32-409b-b63b-0debf9388465",
   "metadata": {},
   "source": [
    "#### Conclusions"
   ]
  },
  {
   "cell_type": "code",
   "execution_count": null,
   "id": "c96b6833-c2da-48b9-bdc9-bdef7a0d3347",
   "metadata": {},
   "outputs": [],
   "source": []
  }
 ],
 "metadata": {
  "kernelspec": {
   "display_name": "Python 3 (ipykernel)",
   "language": "python",
   "name": "python3"
  },
  "language_info": {
   "codemirror_mode": {
    "name": "ipython",
    "version": 3
   },
   "file_extension": ".py",
   "mimetype": "text/x-python",
   "name": "python",
   "nbconvert_exporter": "python",
   "pygments_lexer": "ipython3",
   "version": "3.10.9"
  }
 },
 "nbformat": 4,
 "nbformat_minor": 5
}
