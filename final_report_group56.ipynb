{
 "cells": [
  {
   "cell_type": "markdown",
   "id": "70c14261-ff1c-4789-a12d-9873c5b7cb98",
   "metadata": {},
   "source": [
    "# **INTRODUCTION**"
   ]
  },
  {
   "cell_type": "markdown",
   "id": "2d907daf-0598-4f6a-bbbf-2ea00e738684",
   "metadata": {},
   "source": [
    "Given our combined interest in financial crime and security, we had chosen a credit card transaction dataset with over a million entries. Initially we were excited to independently explore how variables associated with credit card usage impact the authenticity of a transaction however as we dived deeper into the variability of our dataset, our project scope focused on finding if there exists a relationship between each of the variables available to us and if one could make effective and consistent prediction regarding the occurence of credit card fraud. Our individual focuses were:\n",
    "\n",
    "- How can one ascertain a fraudulent transaction which used a pin number or a chip by analysing the distance from the previous transaction, the ratio of the purchase price to the median price, and whether the transaction was made at a recurring retailer?\n",
    "- How does the distance from home affect the likelihood of credit card fraud in both online and offline transactions?\n",
    "- What relation does the distance from home and distance from last transaction attribute have when a transaction is made using CHIP. How does that affect the likelihood of the transaction being considered as fraudulent?"
   ]
  },
  {
   "cell_type": "markdown",
   "id": "b9f2db9d-2ead-4841-b532-cce32f4a6fe6",
   "metadata": {},
   "source": [
    "#### Exploratory Data Analysis"
   ]
  },
  {
   "cell_type": "markdown",
   "id": "7c2d509c-bedc-49ad-a113-c7c82b63ba74",
   "metadata": {},
   "source": [
    "**Occurence of fraud in transactions when chip or pin was used for authentication purposes**"
   ]
  },
  {
   "cell_type": "markdown",
   "id": "ffed8a4d-9e9c-4528-a2a3-96877761fbec",
   "metadata": {},
   "source": [
    "**Fraud trend inoffline and online transactions"
   ]
  },
  {
   "cell_type": "markdown",
   "id": "8187a892-2c32-409b-b63b-0debf9388465",
   "metadata": {},
   "source": [
    "#### Research Question & Conclusions"
   ]
  }
 ],
 "metadata": {
  "kernelspec": {
   "display_name": "Python 3 (ipykernel)",
   "language": "python",
   "name": "python3"
  },
  "language_info": {
   "codemirror_mode": {
    "name": "ipython",
    "version": 3
   },
   "file_extension": ".py",
   "mimetype": "text/x-python",
   "name": "python",
   "nbconvert_exporter": "python",
   "pygments_lexer": "ipython3",
   "version": "3.10.8"
  }
 },
 "nbformat": 4,
 "nbformat_minor": 5
}
