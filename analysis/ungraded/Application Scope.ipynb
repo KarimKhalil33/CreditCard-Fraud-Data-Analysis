{
 "cells": [
  {
   "cell_type": "markdown",
   "id": "69bdbd91-88a2-416d-9eec-cd0f881e0e4c",
   "metadata": {},
   "source": [
    "Data Wranggling techniques:\n",
    "- def function: Define a customised function to manipulate the data in the table and derive meaningful insights"
   ]
  }
 ],
 "metadata": {
  "kernelspec": {
   "display_name": "Python 3 (ipykernel)",
   "language": "python",
   "name": "python3"
  },
  "language_info": {
   "codemirror_mode": {
    "name": "ipython",
    "version": 3
   },
   "file_extension": ".py",
   "mimetype": "text/x-python",
   "name": "python",
   "nbconvert_exporter": "python",
   "pygments_lexer": "ipython3",
   "version": "3.10.8"
  }
 },
 "nbformat": 4,
 "nbformat_minor": 5
}
