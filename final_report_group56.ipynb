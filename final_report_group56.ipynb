{
 "cells": [
  {
   "cell_type": "markdown",
   "id": "70c14261-ff1c-4789-a12d-9873c5b7cb98",
   "metadata": {},
   "source": [
    "# **Introduction**"
   ]
  },
  {
   "cell_type": "markdown",
   "id": "2d907daf-0598-4f6a-bbbf-2ea00e738684",
   "metadata": {},
   "source": [
    "Given our combined interest in financial crime and security, we had chosen a credit card transaction dataset with over a million entries. Initially we were excited to independently explore how variables associated with credit card usage impact the authenticity of a transaction however as we dived deeper into the variability of our dataset, our project scope focused on finding if there exists a relationship between each of the variables available to us and if one could make effective and consistent prediction regarding the occurence of credit card fraud. Our individual focuses were:\n",
    "\n",
    "- How can one ascertain a fraudulent transaction which used a pin number or a chip by analysing the distance from the previous transaction, the ratio of the purchase price to the median price, and whether the transaction was made at a recurring retailer?\n",
    "- How does the distance from home affect the likelihood of credit card fraud in both online and offline transactions?\n",
    "- What relation does the distance from home and distance from last transaction attribute have when a transaction is made using CHIP. How does that affect the likelihood of the transaction being considered as fraudulent?"
   ]
  },
  {
   "cell_type": "markdown",
   "id": "3320209b-23b6-48e8-94ef-346e54359ef8",
   "metadata": {},
   "source": [
    "---"
   ]
  },
  {
   "cell_type": "markdown",
   "id": "ba92f315-0870-4ddc-8da3-7f7daefd4ac5",
   "metadata": {},
   "source": [
    "# **Exploratory Data Analysis**"
   ]
  },
  {
   "cell_type": "markdown",
   "id": "add36af8-63db-4b2d-b34a-fa07ac8dce46",
   "metadata": {},
   "source": [
    "#### We began by working with an extensive dataset, which included a million datapoints. To simplify the data, we narrowed down our focus on several variables, such as distance from home, last transaction, and ratio to median purchase price. Subsequently, we delved deeper into exploratory data analysis using fundamental techniques like .describe, .info, and .corr. However, despite our efforts, we were unable to extract any clear correlations or obtain substantial insights by reducing the dataset. Consequently, we opted to use the groupby function, with each member of our team assigned a specific variable to examine, which ultimately provided us with a much more comprehensive understanding of our data. We created various illustrative plots, including violinplots, barplots,heatmaps, and scatterplots ####"
   ]
  },
  {
   "cell_type": "markdown",
   "id": "2f0b1e82-7d1a-47c0-8821-0015849df9de",
   "metadata": {},
   "source": [
    "## Figure 1: ## \n",
    "#### In the following figure is a heatmap with a groupby function on distance from home, which helped us identify several strong correlations right away, such as fraud vs. distance from home and used chip vs. distance from the last transaction. This facilitated a more in-depth analysis of our data, with a solidified understanding of what to expect in the future.  ####"
   ]
  },
  {
   "cell_type": "markdown",
   "id": "43a79c9f-83ff-4d75-a3c5-c72b95ccbd2f",
   "metadata": {},
   "source": [
    "![Heatmap](../images/karim_heatmap.png)"
   ]
  },
  {
   "cell_type": "markdown",
   "id": "c08fb83f-429e-4f1b-871c-c0e1606a1dd6",
   "metadata": {},
   "source": [
    "## Figure"
   ]
  },
  {
   "cell_type": "markdown",
   "id": "890bb1f1-125c-4e8f-a90c-29d6d4ea2f5e",
   "metadata": {},
   "source": [
    "---"
   ]
  },
  {
   "cell_type": "markdown",
   "id": "b9f2db9d-2ead-4841-b532-cce32f4a6fe6",
   "metadata": {},
   "source": [
    "# **Research Question/Results**"
   ]
  },
  {
   "cell_type": "markdown",
   "id": "7c2d509c-bedc-49ad-a113-c7c82b63ba74",
   "metadata": {},
   "source": [
    "### **How can one ascertain a fraudulent transaction which used a pin number or a chip by analysing the distance from the previous transaction, the ratio of the purchase price to the median price, and whether the transaction was made at a recurring retailer?**"
   ]
  },
  {
   "cell_type": "code",
   "execution_count": null,
   "id": "a723f280-f8df-4f14-b2b6-b02574c578bd",
   "metadata": {},
   "outputs": [],
   "source": []
  },
  {
   "cell_type": "markdown",
   "id": "ffed8a4d-9e9c-4528-a2a3-96877761fbec",
   "metadata": {},
   "source": [
    "### **How does the distance from home affect the likelihood of credit card fraud in both online and offline transactions?**"
   ]
  },
  {
   "cell_type": "code",
   "execution_count": null,
   "id": "9a8fd868-86b4-4fca-8dd7-9fc2e40452d5",
   "metadata": {},
   "outputs": [],
   "source": []
  },
  {
   "cell_type": "markdown",
   "id": "93a87a6a-091a-48e5-8135-9e7855e44487",
   "metadata": {},
   "source": [
    "### **What relation does the distance from home and distance from last transaction attribute have when a transaction is made using CHIP. How does that affect the likelihood of the transaction being considered as fraudulent?**"
   ]
  },
  {
   "cell_type": "markdown",
   "id": "1b32a843-bf81-41a2-adcd-e98efe01f479",
   "metadata": {},
   "source": [
    "Since we are dealing with transactions made using chip, the first plot below clearly shows that there are very few number of frauds when we deal with transactions that use chip.   "
   ]
  },
  {
   "cell_type": "markdown",
   "id": "f896fffd-3b32-41b9-8324-cc521f21714f",
   "metadata": {},
   "source": [
    "![chip vs fraud](../images/adi/chip_fraud.png)"
   ]
  },
  {
   "cell_type": "markdown",
   "id": "b5936391-438c-468d-9cb0-3a6099a32c37",
   "metadata": {},
   "source": [
    "Now, let us look at a plot that shows fraudulent transactions that were made with and without chip at different distance from home. The plot below clearly shows that fraudulent transactions that were made without the use of chip fell within a much greater range of distance from home (approximatly 0 to 250) as opposed to non fraudulent transactions made without chip (approximately 0 to 50). We can also see that fraudulent transactions made with chip had a smaller range for distance from home as opposed to non fraudulent transactions made using chip."
   ]
  },
  {
   "cell_type": "markdown",
   "id": "ae96f7de-8d4c-42e7-911c-0a46a40f40a4",
   "metadata": {},
   "source": [
    "![dfh vs fraud for chip transactions](../images/adi/DFH_chip.png)"
   ]
  },
  {
   "cell_type": "markdown",
   "id": "41de21c7-4ade-478d-9ec2-f7472040f8ec",
   "metadata": {},
   "source": [
    "Finally, let us look at a plot that shows fraudulent transactions that were made with and without chip at different values for distance from last transaction. In general, all fraudulent transactions, disregarding the use of chip, fall in a very similar range for distance from last transaction. The use of chip however does very slightly increase the possibility of fraud in a transaction. As we can see from the plot, transactions that used chip have a slightly greater range for distance from last transaction. However, as per the deeper analysis conducted on this attribute, we can establish that there isn't a very strong correlation between this attribute (distance from last transaction) and fraud."
   ]
  },
  {
   "cell_type": "markdown",
   "id": "d785a10d-f483-4eb9-b2c0-a3b6ee2c97f3",
   "metadata": {},
   "source": [
    "![dfh vs fraud for chip transactions](../images/adi/DFLT_chip.png)"
   ]
  },
  {
   "cell_type": "markdown",
   "id": "a19c4e67-d128-4ee7-831c-3afa50bb8e2b",
   "metadata": {},
   "source": [
    "---"
   ]
  },
  {
   "cell_type": "markdown",
   "id": "8187a892-2c32-409b-b63b-0debf9388465",
   "metadata": {},
   "source": [
    "# **Conclusions**"
   ]
  },
  {
   "cell_type": "code",
   "execution_count": null,
   "id": "c96b6833-c2da-48b9-bdc9-bdef7a0d3347",
   "metadata": {},
   "outputs": [],
   "source": []
  }
 ],
 "metadata": {
  "kernelspec": {
   "display_name": "Python 3 (ipykernel)",
   "language": "python",
   "name": "python3"
  },
  "language_info": {
   "codemirror_mode": {
    "name": "ipython",
    "version": 3
   },
   "file_extension": ".py",
   "mimetype": "text/x-python",
   "name": "python",
   "nbconvert_exporter": "python",
   "pygments_lexer": "ipython3",
   "version": "3.10.8"
  }
 },
 "nbformat": 4,
 "nbformat_minor": 5
}
