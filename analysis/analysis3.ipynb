{
 "cells": [
  {
   "cell_type": "markdown",
   "metadata": {},
   "source": [
    "# Aditya Sunilkumar"
   ]
  },
  {
   "cell_type": "markdown",
   "metadata": {},
   "source": [
    "## **To what extent do variables such as employing the chip identifier or the pin number of a credit card contribute significantly or insignificantly in assessing the legitimacy of a credit card transaction?**\r\n",
    "\r\n",
    "Adi has witnessed a friend go through a credit card fraud, causing him to be interested in this data set. He seems to be interested in the distance from home data points in this data set."
   ]
  }
 ],
 "metadata": {},
 "nbformat": 4,
 "nbformat_minor": 2
}
