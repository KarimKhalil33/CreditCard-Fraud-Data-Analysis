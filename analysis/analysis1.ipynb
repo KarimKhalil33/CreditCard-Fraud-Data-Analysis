{
 "cells": [
  {
   "cell_type": "markdown",
   "id": "cfa3d487-e489-47c1-9190-b85276ae56be",
   "metadata": {},
   "source": [
    "# Ruwaida Rashid\n",
    "#### (ADAPTED) How can one ascertain a fraudulent transaction which used a pin number or a chip by analysing the distance from the previous transaction, the ratio of the purchase price to the median price, and whether the transaction was made at a recurring retailer?\n",
    "#### (ORIGINAL) Is it possible to determine the legitimacy of a transaction by analysing the inter-relationship between the distance from the last point of transaction, the ratio to median purchase price and if the transaction was made at a repeat retailer?\n",
    "\n",
    "**Sub-Research Questions**\n",
    "##### How is fraudulent transaction defined in the dataset?\n",
    "##### Is there a correlation between the mode of transaction (online or offline) and the likelihood of a fraudulent transaction?\n",
    "##### What can be said about the relationship between ratio to median purchase price and distance from home? \n",
    "\n",
    "**Rationale**\n",
    "###### I have an interest in data privacy and areas of breaches, and with the limited statistical and python knowledge I believe this credit card fraud analysis allows me to gain the basic technical knowledge needed to further understand the techniques involved in further complex data analysis. Following the factors associated with a credit card transaction, I would like to understand if a trend exists between the distance from last location of transaction with the same credit card and a fraudulent transaction. Given the complexity of real life scenarios, I am also interested to know if higher median transaction suggests a greater chance of fraudulent transaction going through. In addition to which, if the point of transaction being a repeat retailer suggest a specific spending pattern that can contribute to higher chances of fraudulent transactions going through."
   ]
  },
  {
   "cell_type": "code",
   "execution_count": 1,
   "id": "a3c396ed-aff2-4e6c-a398-83503173e945",
   "metadata": {},
   "outputs": [
    {
     "data": {
      "text/html": [
       "<div>\n",
       "<style scoped>\n",
       "    .dataframe tbody tr th:only-of-type {\n",
       "        vertical-align: middle;\n",
       "    }\n",
       "\n",
       "    .dataframe tbody tr th {\n",
       "        vertical-align: top;\n",
       "    }\n",
       "\n",
       "    .dataframe thead th {\n",
       "        text-align: right;\n",
       "    }\n",
       "</style>\n",
       "<table border=\"1\" class=\"dataframe\">\n",
       "  <thead>\n",
       "    <tr style=\"text-align: right;\">\n",
       "      <th></th>\n",
       "      <th>distance_from_home</th>\n",
       "      <th>distance_from_last_transaction</th>\n",
       "      <th>ratio_to_median_purchase_price</th>\n",
       "      <th>repeat_retailer</th>\n",
       "      <th>used_chip</th>\n",
       "      <th>used_pin_number</th>\n",
       "      <th>online_order</th>\n",
       "      <th>fraud</th>\n",
       "    </tr>\n",
       "  </thead>\n",
       "  <tbody>\n",
       "    <tr>\n",
       "      <th>0</th>\n",
       "      <td>57.877857</td>\n",
       "      <td>0.311140</td>\n",
       "      <td>1.945940</td>\n",
       "      <td>1.0</td>\n",
       "      <td>1.0</td>\n",
       "      <td>0.0</td>\n",
       "      <td>0.0</td>\n",
       "      <td>0.0</td>\n",
       "    </tr>\n",
       "    <tr>\n",
       "      <th>1</th>\n",
       "      <td>10.829943</td>\n",
       "      <td>0.175592</td>\n",
       "      <td>1.294219</td>\n",
       "      <td>1.0</td>\n",
       "      <td>0.0</td>\n",
       "      <td>0.0</td>\n",
       "      <td>0.0</td>\n",
       "      <td>0.0</td>\n",
       "    </tr>\n",
       "    <tr>\n",
       "      <th>2</th>\n",
       "      <td>5.091079</td>\n",
       "      <td>0.805153</td>\n",
       "      <td>0.427715</td>\n",
       "      <td>1.0</td>\n",
       "      <td>0.0</td>\n",
       "      <td>0.0</td>\n",
       "      <td>1.0</td>\n",
       "      <td>0.0</td>\n",
       "    </tr>\n",
       "    <tr>\n",
       "      <th>3</th>\n",
       "      <td>2.247564</td>\n",
       "      <td>5.600044</td>\n",
       "      <td>0.362663</td>\n",
       "      <td>1.0</td>\n",
       "      <td>1.0</td>\n",
       "      <td>0.0</td>\n",
       "      <td>1.0</td>\n",
       "      <td>0.0</td>\n",
       "    </tr>\n",
       "    <tr>\n",
       "      <th>4</th>\n",
       "      <td>44.190936</td>\n",
       "      <td>0.566486</td>\n",
       "      <td>2.222767</td>\n",
       "      <td>1.0</td>\n",
       "      <td>1.0</td>\n",
       "      <td>0.0</td>\n",
       "      <td>1.0</td>\n",
       "      <td>0.0</td>\n",
       "    </tr>\n",
       "    <tr>\n",
       "      <th>5</th>\n",
       "      <td>5.586408</td>\n",
       "      <td>13.261073</td>\n",
       "      <td>0.064768</td>\n",
       "      <td>1.0</td>\n",
       "      <td>0.0</td>\n",
       "      <td>0.0</td>\n",
       "      <td>0.0</td>\n",
       "      <td>0.0</td>\n",
       "    </tr>\n",
       "    <tr>\n",
       "      <th>6</th>\n",
       "      <td>3.724019</td>\n",
       "      <td>0.956838</td>\n",
       "      <td>0.278465</td>\n",
       "      <td>1.0</td>\n",
       "      <td>0.0</td>\n",
       "      <td>0.0</td>\n",
       "      <td>1.0</td>\n",
       "      <td>0.0</td>\n",
       "    </tr>\n",
       "    <tr>\n",
       "      <th>7</th>\n",
       "      <td>4.848247</td>\n",
       "      <td>0.320735</td>\n",
       "      <td>1.273050</td>\n",
       "      <td>1.0</td>\n",
       "      <td>0.0</td>\n",
       "      <td>1.0</td>\n",
       "      <td>0.0</td>\n",
       "      <td>0.0</td>\n",
       "    </tr>\n",
       "    <tr>\n",
       "      <th>8</th>\n",
       "      <td>0.876632</td>\n",
       "      <td>2.503609</td>\n",
       "      <td>1.516999</td>\n",
       "      <td>0.0</td>\n",
       "      <td>0.0</td>\n",
       "      <td>0.0</td>\n",
       "      <td>0.0</td>\n",
       "      <td>0.0</td>\n",
       "    </tr>\n",
       "    <tr>\n",
       "      <th>9</th>\n",
       "      <td>8.839047</td>\n",
       "      <td>2.970512</td>\n",
       "      <td>2.361683</td>\n",
       "      <td>1.0</td>\n",
       "      <td>0.0</td>\n",
       "      <td>0.0</td>\n",
       "      <td>1.0</td>\n",
       "      <td>0.0</td>\n",
       "    </tr>\n",
       "  </tbody>\n",
       "</table>\n",
       "</div>"
      ],
      "text/plain": [
       "   distance_from_home  distance_from_last_transaction  \\\n",
       "0           57.877857                        0.311140   \n",
       "1           10.829943                        0.175592   \n",
       "2            5.091079                        0.805153   \n",
       "3            2.247564                        5.600044   \n",
       "4           44.190936                        0.566486   \n",
       "5            5.586408                       13.261073   \n",
       "6            3.724019                        0.956838   \n",
       "7            4.848247                        0.320735   \n",
       "8            0.876632                        2.503609   \n",
       "9            8.839047                        2.970512   \n",
       "\n",
       "   ratio_to_median_purchase_price  repeat_retailer  used_chip  \\\n",
       "0                        1.945940              1.0        1.0   \n",
       "1                        1.294219              1.0        0.0   \n",
       "2                        0.427715              1.0        0.0   \n",
       "3                        0.362663              1.0        1.0   \n",
       "4                        2.222767              1.0        1.0   \n",
       "5                        0.064768              1.0        0.0   \n",
       "6                        0.278465              1.0        0.0   \n",
       "7                        1.273050              1.0        0.0   \n",
       "8                        1.516999              0.0        0.0   \n",
       "9                        2.361683              1.0        0.0   \n",
       "\n",
       "   used_pin_number  online_order  fraud  \n",
       "0              0.0           0.0    0.0  \n",
       "1              0.0           0.0    0.0  \n",
       "2              0.0           1.0    0.0  \n",
       "3              0.0           1.0    0.0  \n",
       "4              0.0           1.0    0.0  \n",
       "5              0.0           0.0    0.0  \n",
       "6              0.0           1.0    0.0  \n",
       "7              1.0           0.0    0.0  \n",
       "8              0.0           0.0    0.0  \n",
       "9              0.0           1.0    0.0  "
      ]
     },
     "execution_count": 1,
     "metadata": {},
     "output_type": "execute_result"
    }
   ],
   "source": [
    "import pandas as pd\n",
    "dataset = pd.read_csv(\"../data/raw/card_transdata.csv\")\n",
    "dataset.head(n=10)"
   ]
  },
  {
   "cell_type": "markdown",
   "id": "e590b97c-9f47-4f82-8c68-0dc8feb00207",
   "metadata": {},
   "source": [
    "### Data Wranggling "
   ]
  },
  {
   "cell_type": "markdown",
   "id": "b259fe29-b05b-4587-a377-abbc95c93f51",
   "metadata": {},
   "source": [
    "Ensuring data values are clean, null values and any data columns/rows irrelevant to the scope of analysis is removed. "
   ]
  },
  {
   "cell_type": "code",
   "execution_count": 2,
   "id": "30e26cde-ca2a-42ae-a6d5-9e3c4cff057d",
   "metadata": {},
   "outputs": [
    {
     "name": "stdout",
     "output_type": "stream",
     "text": [
      "Requirement already satisfied: openpyxl in /Users/karimkhalil/miniconda3/lib/python3.10/site-packages (3.1.2)\n",
      "Requirement already satisfied: et-xmlfile in /Users/karimkhalil/miniconda3/lib/python3.10/site-packages (from openpyxl) (1.1.0)\n"
     ]
    }
   ],
   "source": [
    "!pip install openpyxl"
   ]
  },
  {
   "cell_type": "code",
   "execution_count": 3,
   "id": "85dcf721-4d50-4b83-80f9-d93d56b948b8",
   "metadata": {},
   "outputs": [
    {
     "ename": "IndentationError",
     "evalue": "unexpected indent (RuwaidaData.py, line 6)",
     "output_type": "error",
     "traceback": [
      "Traceback \u001b[0;36m(most recent call last)\u001b[0m:\n",
      "\u001b[0m  File \u001b[1;32m~/miniconda3/lib/python3.10/site-packages/IPython/core/interactiveshell.py:3442\u001b[0m in \u001b[1;35mrun_code\u001b[0m\n    exec(code_obj, self.user_global_ns, self.user_ns)\u001b[0m\n",
      "\u001b[0;36m  Cell \u001b[0;32mIn[3], line 1\u001b[0;36m\n\u001b[0;31m    from codes import RuwaidaData as pf\u001b[0;36m\n",
      "\u001b[0;36m  File \u001b[0;32m~/Desktop/Data301/Project/project-group-group56/analysis/codes/RuwaidaData.py:6\u001b[0;36m\u001b[0m\n\u001b[0;31m    .iloc[:len(df) // 65]\u001b[0m\n\u001b[0m    ^\u001b[0m\n\u001b[0;31mIndentationError\u001b[0m\u001b[0;31m:\u001b[0m unexpected indent\n"
     ]
    }
   ],
   "source": [
    "from codes import RuwaidaData as pf"
   ]
  },
  {
   "cell_type": "code",
   "execution_count": null,
   "id": "85bb1581-1088-4ead-a326-a5563379a8b3",
   "metadata": {},
   "outputs": [],
   "source": [
    "df = pf.filter_dataset(\"../data/raw/card_transdata.csv\",dataset)"
   ]
  },
  {
   "cell_type": "code",
   "execution_count": null,
   "id": "49937a35-a625-47d5-94d1-9abaa203cfa5",
   "metadata": {},
   "outputs": [],
   "source": [
    "df.nunique(axis=0)"
   ]
  },
  {
   "cell_type": "markdown",
   "id": "19c4d8e2-1f9f-4025-b2df-abfe2711545d",
   "metadata": {},
   "source": [
    "**As part of a sub-inquiry of the dataset, the distance_from_home variable is grouped into equal ranges and their corresponding values for other variables are averaged to be stored into a new dataset which will help identify each of their distribution by distance from home. This helps consolidate and verify any inferences made from the larger dataset to answer the research question.**"
   ]
  },
  {
   "cell_type": "code",
   "execution_count": null,
   "id": "1991f385-fc8b-44d0-bd24-15bd6dc8788c",
   "metadata": {},
   "outputs": [],
   "source": [
    "bins = pd.cut(df[\"distance_from_last_transaction\"], bins=10)\n",
    "df_byrange = df.groupby(bins).mean()\n",
    "df_byrange"
   ]
  },
  {
   "cell_type": "code",
   "execution_count": null,
   "id": "8f76751a-e87b-422a-9105-64ac7e5a3227",
   "metadata": {},
   "outputs": [],
   "source": [
    "df_byrange.to_excel('Distance_From_Last_Transaction.xlsx', index=False)"
   ]
  },
  {
   "cell_type": "code",
   "execution_count": null,
   "id": "3d634fc9-8bb9-4f72-8a55-53a909f8b4c1",
   "metadata": {},
   "outputs": [],
   "source": [
    "stats_summary = df.describe().T\n",
    "stats_summary\n",
    "dataset_wc = stats_summary.dropna()\n",
    "dataset_wc"
   ]
  },
  {
   "cell_type": "code",
   "execution_count": null,
   "id": "ccb2ff77-d6f6-4f4b-809f-bc309b15842b",
   "metadata": {},
   "outputs": [],
   "source": [
    "#Importing all packages needed for EDA\n",
    "import seaborn as sns\n",
    "import numpy as np\n",
    "import os\n",
    "import matplotlib.pyplot as plt"
   ]
  },
  {
   "cell_type": "code",
   "execution_count": null,
   "id": "704b7755-182b-45de-9b04-82b933447afa",
   "metadata": {},
   "outputs": [],
   "source": [
    "df.duplicated().sum()"
   ]
  },
  {
   "cell_type": "code",
   "execution_count": null,
   "id": "9d98120d-4263-4e44-83e0-23f602290f9b",
   "metadata": {},
   "outputs": [],
   "source": [
    "if df.isnull().any().any():\n",
    "    print(\"Dataset contains missing values\")\n",
    "else:\n",
    "    print(\"Dataset does not contain missing values\")"
   ]
  },
  {
   "cell_type": "markdown",
   "id": "134052e7-bad4-4d88-8814-6d528a746a31",
   "metadata": {},
   "source": [
    "**Upon closer inspection of the averages, the distance metrics (distance from home and distance from last POS) are both assumed to be measured in km, following the universal metric system. Assumption based on lack of information provided for the variables from kaggle. Regardless of the two variations that it could be measured in, the distribution of the distance is not affected and does not contribute to the overall analysis of the dataset.**"
   ]
  },
  {
   "cell_type": "markdown",
   "id": "843f5d6f-b1af-4025-80f3-6377f5fab9a1",
   "metadata": {},
   "source": [
    "### EDA & Analysis Pipeline"
   ]
  },
  {
   "cell_type": "markdown",
   "id": "9b389722-fcb4-4d88-98ee-8c1933cef7c8",
   "metadata": {},
   "source": [
    "#### Correlation Heatmap: Determining the existence of linear relationship"
   ]
  },
  {
   "cell_type": "code",
   "execution_count": null,
   "id": "40c825ad-4d65-4b75-ae82-12dfc1dca5ea",
   "metadata": {},
   "outputs": [],
   "source": [
    "col_dropped = ['distance_from_home','distance_from_last_transaction','ratio_to_median_purchase_price']\n",
    "df_bin = df.drop(col_dropped, axis = 1)\n",
    "corr = df_bin.corr()\n",
    "mask = np.triu(np.ones_like(corr, dtype=bool))\n",
    "#Creates and changes the figure and axis size to accomodate all information\n",
    "fig, ax = plt.subplots(figsize=(10, 10))\n",
    "heatmap = sns.heatmap(corr, xticklabels = corr.columns, \n",
    "            yticklabels=corr.columns, \n",
    "            annot=True,\n",
    "            cmap = sns.diverging_palette(220,20,as_cmap=True),mask=mask)\n",
    "plt.title('Correlation Heatmap Analysing Categorical Heatmap',fontsize=16)"
   ]
  },
  {
   "cell_type": "markdown",
   "id": "16fbb698-c859-490b-b170-e482e1ec6d42",
   "metadata": {},
   "source": [
    "**The strongest correlation between two variables seem to be -0.78 between pin and chip usage. This inference about the negative linear relationship between using pin or chip is unnecessary and negligible considering they are mutually exclusive. Next strongest correlation is between online ordder and fraud, 0.16 shows a relative posiive linear correlation. The likelihood of an online purchase being fraudulent is higher than when made at a POS. At -0.016, there exists no relationship between repeat retailer and fraud. Although one could say, the smallest of correlation that exists points to a negative relationship where one can say that among the points that seem to be linearly related, if the retailer was recurring, the chances of fraud was lower than when new. Otherwise, there seems to be no prominent correlations between any of the variables, with most of the correlation variables ranging closer to 0. One can evaluate that although there seems to be no strong linear correlation between any of the categorical variables, there could still exist other types of relationships where the nature of transaction can be determined based on the behaviour of trends associated with these variables. Lastly, it should be acknowledged that the heatmap can be analysed for any variables of the same type (variables of the binary type and numerical/continuous data type). Hence, a separate heatmap was create to visualise any existing linear relationship between the continuous variables.**\n",
    "\n",
    "***Is there a relationship between online order and chip usage? Since the dataset focuses on all transactions made when verified with chip and pin numbers, can it be inferred that all fraudulent transactions occuring online have used chips? Unreliable method of verification?***"
   ]
  },
  {
   "cell_type": "code",
   "execution_count": null,
   "id": "0492332d-b28d-4763-a910-b2806e7d18a9",
   "metadata": {},
   "outputs": [],
   "source": [
    "col_dropped = ['online_order','used_chip','used_pin_number','repeat_retailer','fraud']\n",
    "df_bin = df.drop(col_dropped, axis=1)\n",
    "corr = df_bin.corr()\n",
    "\n",
    "# creating a mask to hide the upper triangle\n",
    "mask = np.triu(np.ones_like(corr, dtype=bool))\n",
    "\n",
    "fig, ax = plt.subplots(figsize=(10, 10))\n",
    "sns.heatmap(corr, cmap='inferno', annot=True, square=True, mask=mask, ax=ax)\n",
    "plt.title('Correlation Heatmap Analysing Continuous Variables',fontsize=16)"
   ]
  },
  {
   "cell_type": "markdown",
   "id": "66835df8-dc13-43c1-9f72-898b416552b8",
   "metadata": {},
   "source": [
    "**When looking at ratio to median purchase price there seems to be a weak, yet relatively linear (compared to distance from last transaction) relationship with distance from home. With a pearson's value of 0.015, one cannot confidently conclude there is a linear relaationship, enough to make inferences. Similarly, the linear relationship between distance from last transaction to ratio to median purchase price is significantly weaker at 0.0035. To analyse if there exists another type of relationship (alternative to linear), distribution charts can be plotted to see if there are any trends in the inter-relationship between these variables.**\n",
    "\n",
    "***From the heatmap, there is no significant linear relationship between the condition of a recurring retailer and fraud, any that exist only points to the direction in which one affects the other and not the extent. Simiarly, the distance from last point of transaction and ratio to median purchase price do not seem to be linearly correlated to make any accurate conclusions of predictive behaviour. Although, there is a strong posiive relationship between online orders and fraud. If the order was made online, the likelihood of it being fraudulent is higher than when not.***"
   ]
  },
  {
   "cell_type": "markdown",
   "id": "e4225296-5417-44c0-a781-c547a2c0c72f",
   "metadata": {},
   "source": [
    "### Violin Plot"
   ]
  },
  {
   "cell_type": "code",
   "execution_count": null,
   "id": "a84f1f5d-73a5-46db-9c2a-aabe946474fa",
   "metadata": {},
   "outputs": [],
   "source": [
    "sns.set(style=\"whitegrid\")\n",
    "\n",
    "plt.figure(figsize=(10,6))\n",
    "sns.violinplot(x=\"fraud\", \n",
    "               y=\"ratio_to_median_purchase_price\", \n",
    "               data=df, \n",
    "               bw=5, palette=\"RdYlBu\")\n",
    "plt.ylim(-70, 150)\n",
    "plt.yticks(np.arange(-70, 150, 10))\n",
    "plt.title('Transaction Amount Distribution for Fraudulent and Non-Fraudulent Transactions', fontsize=16)\n",
    "plt.xlabel('Fraudulent Transaction (1 = Yes, 0 = No)')\n",
    "plt.ylabel('Ratio to Median Purchase Price')\n",
    "plt.show()"
   ]
  },
  {
   "cell_type": "markdown",
   "id": "bc2e8b24-6fdc-423f-8c8d-43a963c61cc6",
   "metadata": {},
   "source": [
    "**From the violin plot, there is a clear distribution influx when the ratio to median purchase price is within the range -20 to 20 for both fraudulent and non-fraudulent transactions. Although there are higher legitimate transactions (yellow) within lower ratios than fraudulent (blue), fraudulent transactions are distributed across a larger range of purchase ratio, from approximately -55 to 95 compared to the range of -25 to 90 for authentic transactions. One can infer that as the ratio to median purchase price increases, the likelihood of fraudulent transactions existing in that range increases than when the ratio is within a lower limit. It should be noted that a violin plot consists of kernel density plot on each side of the vertical axes, and the width of the kernel density plot is proportional to the density of the data at that point. \n",
    "In some cases, the density of the data at one end of the plot might be very small, resulting in a wide kernel density plot that extends below the horizontal axis. The negative values on the vertical axis could be attributed to such.**\n",
    "\n",
    "***The distribution of fraudulent transactions are more spread out to higher purchase prices, concluding that higher ratio to median prices might not be a causation of fraud but more more fraud cases are observed at higher ratio to median purchase prices.***"
   ]
  },
  {
   "cell_type": "markdown",
   "id": "b0fc041e-9457-4d2a-bc6a-ebdac561567c",
   "metadata": {},
   "source": [
    "### Relplot"
   ]
  },
  {
   "cell_type": "code",
   "execution_count": null,
   "id": "db145bc2-b255-45a1-940d-61944aa5a7a5",
   "metadata": {},
   "outputs": [],
   "source": [
    "df_plot = df[['distance_from_home', 'distance_from_last_transaction', 'online_order', 'fraud']]\n",
    "\n",
    "# Converting the online_order column to a categorical variable\n",
    "df_plot['online_order'] = df_plot['online_order'].astype('category')\n",
    "\n",
    "sns.relplot(x='distance_from_last_transaction', y='distance_from_home', hue='fraud', style='online_order',\n",
    "            col='online_order', row='fraud', data=df_plot, kind='line', markers=True, height=4, aspect=1.2, palette=[\"#5936AF\", \"#43C39C\"])\n",
    "plt.xlabel('Distance from Last Transaction (km)')\n",
    "plt.ylabel('Distance from Home (km)')\n",
    "plt.suptitle('Distance from Home and Last Transaction by Online Order and Fraud Status', fontsize=16)\n",
    "plt.subplots_adjust(top=0.9)\n",
    "plt.show()"
   ]
  },
  {
   "cell_type": "markdown",
   "id": "b8e29acb-0088-4e69-ba97-9f81825a13ec",
   "metadata": {},
   "source": [
    "**When comparing distance from home with distance from last transaction by category of fraud (plot 1 VS plot 3), there is a higher density of transactions (as data points) spread across a wider range (more distributed). When all transactions made at the POS, there seems to be no correlation between the distance from home and distance from last transaction when discerning fraudulent transactions as all five points on the plot are scattered across the grid with no prevalent trend relating one to another. Although there is a larger set of data available in the range when it is an online transaction, there seems to be a linear homogenous correlation between the distance from last transaction and disance from homme. In conrast to these groups of online or offline traudulent transactions, legitimate transactions are spread out and highly distributed across distances.**\n",
    "\n",
    "***With these differences, it can be concluded that fraud is more likely to take place with lower ranges of distance from home in both cases of online and offline transactions. With distance from last transaction, the higher liklelihood of fraud with closer distances are only consistent with online orders, as compared to point of sale transactions which have greater range of variability (although low data points),***"
   ]
  },
  {
   "cell_type": "markdown",
   "id": "d8bfbf77-57e9-478b-a89c-bbcb97067d02",
   "metadata": {},
   "source": [
    "### KDE Plot"
   ]
  },
  {
   "cell_type": "code",
   "execution_count": null,
   "id": "01d2dd0e-747e-4dfc-b35c-8dec0e5d1d4b",
   "metadata": {},
   "outputs": [],
   "source": [
    "plt.figure(figsize=(8, 8))\n",
    "sns.kdeplot(x='distance_from_last_transaction', \n",
    "            y='ratio_to_median_purchase_price', \n",
    "            hue='fraud', \n",
    "            data=df, \n",
    "            fill=True, alpha=0.5, palette='GnBu')\n",
    "plt.title('Ratio to Median Purchase Price vs Distance from Last Point of Transaction', fontsize=16)\n",
    "plt.xlabel('Distance from Last Point of Transaction')\n",
    "plt.xlim(-20,100)\n",
    "plt.ylabel('Ratio to Median Purchase Price')\n",
    "plt.ylim(-10,30)\n",
    "plt.show()"
   ]
  },
  {
   "cell_type": "markdown",
   "id": "7726569d-ec6e-4898-ad22-ef664bdc939c",
   "metadata": {},
   "source": [
    "**This is a 2-D KDE contour plot that displays the joint probability distribution of both distance from last point of transaction and ratio to median purchase price. The contour lines (for non-fraudulent transactions) show areas of equal density where darker areas indicate bigher density and lighter areas represent lower densitty. With the contour lines for fraud generally shifted upwards, relative to authentic transactions, it can be suggested that the likelihood of fraud transactions (blue) are higher when the ratio to median purchase price is greater and the distribution is more concentrated within lower distances from last point of transaction, supporting the inferencce derived from the relplot. As compared to legitimate transactions which are more dispersed across higher distance from last point of transaction and higher ratio to median purchase price. It should also be noted that there seems to be no contour lines for fraudulent transactions as there may not be enough data points within a specific contour line to generate meaningful contour lines.** \n",
    "\n",
    "***When ratio to median purchase price is higher, and the closer the current point of transaction is to the prior, the higher the likelihood of the transaction being classified as fraud.***\n"
   ]
  },
  {
   "cell_type": "markdown",
   "id": "53438447-a36f-4f30-82b1-99fb29a45f4e",
   "metadata": {},
   "source": [
    "### Stacked Barplot"
   ]
  },
  {
   "cell_type": "code",
   "execution_count": null,
   "id": "8c0620e8-d698-45d5-93f3-8142e9c6363e",
   "metadata": {},
   "outputs": [],
   "source": [
    "sns.set_style('whitegrid')\n",
    "\n",
    "plt.figure(figsize=(10,15))\n",
    "df_retail = df.groupby(['fraud', 'repeat_retailer']).size().unstack()\n",
    "colors = ['#900C3F', '#FFC300']\n",
    "df_retail = df_retail.div(df_retail.sum(axis=1), axis=0)\n",
    "df_retail.plot(kind='bar', stacked=True, color=colors)\n",
    "plt.title('Proportion of Repeat and Non-Repeat Retailers for Fraudulent and Non-Fraudulent Transactions')\n",
    "plt.xlabel('Fraudulent Transaction (1 = Yes, 0 = No)')\n",
    "plt.ylabel('Proportion')\n",
    "plt.legend(title='Repeat Retailer (1 = Yes, 0 = No)', loc='center left', bbox_to_anchor=(1, 0.5))\n",
    "plt.show()"
   ]
  },
  {
   "cell_type": "markdown",
   "id": "5e17bf59-697f-4ff4-9969-b9662ef7cc29",
   "metadata": {},
   "source": [
    "**The grouping of repeat retailer to the proportion of fraudulent transactions allow one to determine if there exists a significant portion of the variable which could point towards a potential predictive behaviour between the variables. It can be observed that there seems to be no significant proportion of tthe fraudulent or non-fraudulent transactions that would not classify as a repeat retailer. What is noteworthy though is that the sub-categories (fraud and authentic), there is almost a negligible difference in the proportion of retailers that are recurring. Ranging from approximately 85% - 90% of the proportion of fraudulent and authentic transctions are a repeat retailer.**\n",
    "\n",
    "***Could be inferred there exists no relationship between the occurence of repeat retailer and the nature of transaction.***"
   ]
  },
  {
   "cell_type": "code",
   "execution_count": null,
   "id": "05692589-01d7-4723-9316-2e33c906ebd9",
   "metadata": {},
   "outputs": [],
   "source": [
    "sns.set_style('whitegrid')\n",
    "\n",
    "#CREATING SUBPLOTS\n",
    "\n",
    "fig, (ax1, ax2) = plt.subplots(ncols=2, figsize=(12,6))\n",
    "\n",
    "df_pin = df.groupby(['fraud', 'used_pin_number']).size().unstack()\n",
    "colors = ['#ff9896', '#23E3D2']\n",
    "df_pin = df_retail.div(df_retail.sum(axis=1), axis=0)\n",
    "df_pin.plot(kind='bar', stacked=True, color=colors, ax=ax1)\n",
    "ax1.set_title('Proportion of Fraudulent and Non-Fraudulent Transactions that Used Pin Numbers')\n",
    "ax1.set_xlabel('Fraudulent Transaction (1 = Yes, 0 = No)')\n",
    "ax1.set_ylabel('Proportion')\n",
    "ax1.legend(title='Used Pin Number (1 = Yes, 0 = No)', loc='center left', bbox_to_anchor=(1.02, 0.5))\n",
    "\n",
    "df_chip = df.groupby(['fraud', 'used_chip']).size().unstack()\n",
    "colors = ['#ff9896', '#23E3D2']\n",
    "df_chip = df_chip.div(df_chip.sum(axis=1), axis=0)\n",
    "df_chip.plot(kind='bar', stacked=True, color=colors, ax=ax2)\n",
    "ax2.set_title('Proportion of Fraudulent and Non-Fraudulent Transactions that used chips')\n",
    "ax2.set_xlabel('Fraudulent Transaction (1 = Yes, 0 = No)')\n",
    "ax2.set_ylabel('Proportion')\n",
    "ax2.legend(title='Used Chip (1 = Yes, 0 = No)', loc='center left', bbox_to_anchor=(1.02, 0.5))\n",
    "\n",
    "plt.tight_layout()\n",
    "plt.show()\n"
   ]
  },
  {
   "cell_type": "markdown",
   "id": "aafbb418-df18-40af-be9c-c276d3db5815",
   "metadata": {},
   "source": [
    "**Upon reflection on the efficiency of determining proportionality and inferring relationships, two more stacked barplots exploring the proportion of fraudulent and auhtentic transactions that are occurences of when a chip or a pin was used rebeals that although there seems to be an almost negligible difference between the usage of pin across fraud and non-fraudulent transactions, there seems to be relatively high proportion of fraudulent transactions that have used chips as compared to authentic. Conversely, the proportion of occurences where chip was not used is higher in authentic transaction than not.It should be noted that since the dataset has been wranggled to only analyse transactions that have used either chips or pin or both to authenticate transactions, this subset could be only representative of the creidt cards that are adapted to these methods of verification. It should also be noted that this plot would not take into consideration duplicate transaction. If a transaction were to use both chip and pin, both would be counted towards the dataset.**\n",
    "\n",
    "***To base a relationship, one could claim that a high proportion of fraudulent transaction can be determoined by correlating it with a high use of chips.***"
   ]
  },
  {
   "cell_type": "code",
   "execution_count": null,
   "id": "5bd43346-0eb3-427c-914b-8618cfe5700b",
   "metadata": {},
   "outputs": [],
   "source": [
    "fig, axs = plt.subplots(ncols=3, figsize=(15, 5))\n",
    "# creating boxplots for each categorical variable\n",
    "sns.boxplot(x='fraud', y='ratio_to_median_purchase_price', data=df, ax=axs[0])\n",
    "sns.boxplot(x='online_order', y='ratio_to_median_purchase_price', data=df, ax=axs[1])\n",
    "sns.boxplot(x='repeat_retailer', y='ratio_to_median_purchase_price', data=df, ax=axs[2])\n",
    "\n",
    "for ax in axs:\n",
    "    ax.set_ylabel('Ratio to Median Purchase Price')\n",
    "\n",
    "axs[0].set_title('Fraud = 1.0 Not Fraud = 0.0')\n",
    "axs[1].set_title('Online Order = 1.0 Not Online Order = 0.0')\n",
    "axs[2].set_title('Repeat Retailer = 1 Not Repeat Retailer = 0.0')\n",
    "\n",
    "fig.tight_layout()\n",
    "plt.suptitle('Ratio to Median Purchase Price Grouped By Fraud, Online Order and Repeat Retailer', fontsize=16)\n",
    "plt.subplots_adjust(top=0.85)\n",
    "plt.show()\n"
   ]
  },
  {
   "cell_type": "markdown",
   "id": "e71a8d5e-74b7-4f93-94fb-053215898ba3",
   "metadata": {},
   "source": [
    "**To start, it needs to be acknowledged that there seems to be specific outliars within the dataset and the large distibution of the dataset past the maximum does not allow for the boxplot to effectively communiate the information needed. Between online order, repeat retailer and ratio to median purchase price, the statistical measures in a box and whisker (mean, median, interquartile rannge) are relatively identifcal, regardless of the scale. However, it is observed that the average distribution of fraud is higher at greater ratio to media purchase price, at approximately 5 than non fraudulent transactions.**\n",
    "\n",
    "***Separate from the distance from last transaction as a variable constraint in the KDE plot, the first sub-plot comparing the ratio to median purchase price and fraud demonstrates a relative relationnship between higher ratio to median purchase prices and higher rates of fraud.***"
   ]
  },
  {
   "cell_type": "code",
   "execution_count": null,
   "id": "fd74e977-70a9-4722-ab3d-a4628e4a013f",
   "metadata": {},
   "outputs": [],
   "source": [
    "plt.figure(figsize=(8,6))\n",
    "sns.scatterplot(x='repeat_retailer', y='ratio_to_median_purchase_price', hue='fraud', size='distance_from_last_transaction', sizes=(10, 500), data=df)\n",
    "\n",
    "plt.xlabel('Repeat Retailer')\n",
    "plt.ylabel('Ratio to Median Purchase Price')\n",
    "plt.title('Bubble Chart: Ratio to Median Purchase Price vs Online Orders and Repeat Retailers')\n",
    "\n",
    "plt.show()\n"
   ]
  },
  {
   "cell_type": "markdown",
   "id": "1365f26a-1673-4a22-84b0-85b93692e40c",
   "metadata": {},
   "source": [
    "**Upon seeing that there were no relationship between the occurennces of repeat retailers and the likelihood of fraud, as well as the positive relationship betweenn ratio to median purchase price and fraud, there could an inter-relationship between the ratio to median purchase price with repeat retailer. This bubble chart, although inconnclusive visually with overplotting, they are filtered by distannce from last transaction and fraudd. As seen, there are larger bubbles relatively concentrated at the lower portion of the chart for both conditions of repeat retailer one can conclude that with similar distribution of fraudulent transactions for both of them there seems to be no significiant relationship between repeat retailer and fraud. This confirms the earlier conclusion. However, with the distribiution range of ratio to median purchase price higher for repeat retailers than when not, one can loosely infer that as the retailer is repeated the transaction amount (variable to the median) is higher.**\n",
    "\n",
    "***It can be loosely concluded that there seems to be a positive relationship between repeat retailers and ratio to median purchase price. If a retailer were recurring, the likelihood of ratio to median purchase price, indicative of amount spent, is higher.****"
   ]
  },
  {
   "cell_type": "markdown",
   "id": "ab90f00a-6981-4d9a-80c9-5602c877a234",
   "metadata": {},
   "source": [
    "### Conclusion"
   ]
  },
  {
   "cell_type": "markdown",
   "id": "ed7650a3-2bb1-4eb6-8277-97cc799ff348",
   "metadata": {},
   "source": [
    "***The following can be inferred to answer the research question of how one can ascertain a fraudulent transaction which used a pin number or a chip by analysing the distance from the previous transaction, the ratio of the purchase price to the median price, and whether the transaction was made at a recurring retailer?***\n",
    "\n",
    "***The distribution of fraudulent transactions are more spread out to higher purchase prices, concluding that higher ratio to median prices might not be a causation of fraud but more more fraud cases are observed at higher ratio to median purchase prices. Higher ratio to median purchase price could be associated with fraud.***\n",
    "\n",
    "***As seen from the stacked barplot, there exists no relationship between the occurence of repeat retailer and the nature of a transaction.***\n",
    "\n",
    "***Last but not least, as the distance from last transaction increases the likelihood of fraud subsequently decreases. When the distance from last point of transaction is closer to the current point of sale, the probability of transaction being classified as fraud is higher.***"
   ]
  },
  {
   "cell_type": "markdown",
   "id": "41b3ced3-c7c5-4b54-bc2c-298c387220f1",
   "metadata": {},
   "source": [
    "### Using df_byrange to understand conclusion"
   ]
  },
  {
   "cell_type": "markdown",
   "id": "d3575340-3cb2-424d-9ee8-4bdbccc65ba0",
   "metadata": {},
   "source": [
    "**For ease of visualisation and understandinng the inconnsistencies in our difficult dataset, the variables were categorised by rannge of distance from last transaction and stored in thte dataset df_byrange earier in the data wranggling process. This was in the hopes that following the analyses of the wranggled dataset, a subset of the dataset could be used to confirm the observed or unobserved behaviours. "
   ]
  },
  {
   "cell_type": "code",
   "execution_count": null,
   "id": "85acbc79-2905-43bc-86d5-705cc4a68787",
   "metadata": {},
   "outputs": [],
   "source": [
    "x_labels = df_byrange.index.astype(str)\n",
    "cols = [col for col in df_byrange.columns if col not in ['fraud', 'online_order', 'repeat_retailer']]\n",
    "num_cols = len(cols)\n",
    "fig, axs = plt.subplots(num_cols, 1, figsize=(8, 4*num_cols), sharex=True)\n",
    "for i, col in enumerate(cols):\n",
    "    axs[i].bar(x_labels, df_byrange[col], color='#35969F')\n",
    "    axs[i].set_title(col)\n",
    "    axs[i].set_ylabel(col)\n",
    "    axs[i].tick_params(axis='x', labelrotation=45)\n",
    "plt.xlabel('Distance from Last Transaction')\n",
    "plt.tight_layout()\n",
    "plt.show()"
   ]
  },
  {
   "cell_type": "markdown",
   "id": "adc79dea-e9ef-4a1e-a008-15b3f6dcfdc1",
   "metadata": {},
   "source": [
    "**Each of the variables were usre used to compare against the distance from last transaction to confirm the analysis conclusion that was made earlier. For the ranged subset, there seems to be no correlation or causal behaviour when distance from last transaction changes. All the same for chip and pin usage with distance to median purchase price. However, there is a sharp increase in the ratio to median purchase price from 2.5 to 17.5 when distance is between 278 annd 333 (km) and immediately drop to near 0. This demonstrates an unpredictability of behaviour and hence no correlation between thw two variables. However, a prominnent linear trend that is observed is the relationship between tthe ratio to median purchase price and distance from last transaction. Relative to all other observations, one can confidently conclude that with incremental increase in distance from last transacion as ratio to median increases, there is a positive linear trend.**"
   ]
  },
  {
   "cell_type": "code",
   "execution_count": null,
   "id": "6083cbc4-6781-45a9-8639-5e17669f5246",
   "metadata": {},
   "outputs": [],
   "source": [
    "col_dropped = ['online_order','used_chip','used_pin_number','repeat_retailer','fraud']\n",
    "df_bin = df_byrange.drop(col_dropped, axis=1)\n",
    "corr = df_byrange.corr()\n",
    "mask = np.triu(np.ones_like(corr, dtype=bool))\n",
    "fig, ax = plt.subplots(figsize=(10, 10))\n",
    "sns.heatmap(corr, cmap='inferno', annot=True, square=True, mask=mask, ax=ax)\n",
    "plt.title('Correlation Heatmap of Variables by Range of Distance from Last Transaction',fontsize=14)"
   ]
  },
  {
   "cell_type": "markdown",
   "id": "717b76e7-e756-46a2-a116-2bef99d52694",
   "metadata": {},
   "source": [
    "**Compared to the heatmap prior, this range data take into consideration a smaller subset which makes it easier to infer details from. Before drawing any conclusions it must be understood that only variables of the same type can be used to compare one another. Hence, after the strongest correlation of -0.84 between used chips (categorical) and distance from home (continuous variable), there is a pearson's correlation of -0.64 between fraud and used chip. This negative relationship demonstrates that with increasing usage of chips, the likelihood of fraud decreases and vice versa. Compared to 0.095 considered an insignificant correlation when comparing the two variables earlier in the original dataset, this is contradictory. However, this behaviour can be explained by the distribution of data points and one can conclude tha the limitations of this dataset does not allow us to cnofidently infer any predictable behaviour between the variables. However, one can say that in the case of this dataset, with a smaller subset of the dataset our confidence in our inferences could increase.**"
   ]
  },
  {
   "cell_type": "code",
   "execution_count": null,
   "id": "407cac17-f3f4-45d6-87f8-670bbc924a45",
   "metadata": {},
   "outputs": [],
   "source": [
    "fraud_counts = []\n",
    "\n",
    "for i, row in df_byrange.iterrows():\n",
    "    lower, upper = row.name.left, row.name.right\n",
    "    fraud_count = df.loc[(df['distance_from_home'] > lower) & (df['distance_from_home'] <= upper) & (df['fraud'] == 1), 'fraud'].count()\n",
    "    fraud_counts.append(fraud_count)\n",
    "\n",
    "fraud_counts"
   ]
  },
  {
   "cell_type": "markdown",
   "id": "9a4b6f07-c974-4864-9260-21b544b98d0c",
   "metadata": {},
   "source": [
    "**We can see that there is a larger count of fraud in the closer ranges of distances from last transaction and with the stark differences in the count in the following ranges, one can confidently conclude that with closer the distance to the last point of transaction, the greater the likelihood of fraud.**"
   ]
  },
  {
   "cell_type": "markdown",
   "id": "17b82e18-cf68-43e3-88e2-8f73e9cd1a73",
   "metadata": {},
   "source": [
    "### Conclusion"
   ]
  },
  {
   "cell_type": "markdown",
   "id": "47f22600-ef9a-40d1-b7f9-afdb752c4165",
   "metadata": {},
   "source": [
    "**When consolidating the sub-analysis of the ranges of distance from last transaction to understand the bahaviour of variables within an aggregated range as well as the analysis from the filtered dataset, there seems to be a positive correlation between higher purchase prices and fraudulent transactions. Though we can conclude that this cannot be classified as a cause and effect relationship, one can infer that with higher ratio to median purchase price, there exists a higher probability of fraudulent transactions occuring. From the subsetted analyses, one can conclude that for the specific distribution of dataset, there is a positive linear relationship (although disrupted with absence of data points within the range 389km to 500km of distance from last point of transaction. Last but not least, there is an inverse relationship between the distance from last transaction and the likelihood of fraud. When the distance from last point of transaction is closer to the current point of sale, the probability of transaction being classified as fraud is higher.**\n",
    "\n",
    "**To answer the research question: How can one ascertain a fraudulent transaction which used a pin number or a chip by analysing the distance from the previous transaction, the ratio of the purchase price to the median price, and whether the transaction was made at a recurring retailer?**\n",
    "\n",
    "**It can be inferred that there is a positive correlation between higher purchase prices and fraudulent transactions.  Although this does not necessarily indicate a causal relationship, with higher ratio to median purchase prices the probability of a transaction being classified as fraud also is higher. Furthermore, an inverse relationship exists between the distance from the last transaction and the likelihood of fraud, with a probability of fraud increasing when the distance from the last point of transaction is closer to the current point of sale.**"
   ]
  },
  {
   "cell_type": "code",
   "execution_count": null,
   "id": "93e2f182-ed1d-4838-8552-d91c3e938f7e",
   "metadata": {},
   "outputs": [],
   "source": []
  }
 ],
 "metadata": {
  "kernelspec": {
   "display_name": "Python 3 (ipykernel)",
   "language": "python",
   "name": "python3"
  },
  "language_info": {
   "codemirror_mode": {
    "name": "ipython",
    "version": 3
   },
   "file_extension": ".py",
   "mimetype": "text/x-python",
   "name": "python",
   "nbconvert_exporter": "python",
   "pygments_lexer": "ipython3",
   "version": "3.10.8"
  }
 },
 "nbformat": 4,
 "nbformat_minor": 5
}
