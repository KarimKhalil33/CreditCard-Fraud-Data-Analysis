{
 "cells": [
  {
   "cell_type": "markdown",
   "metadata": {},
   "source": [
    "# Karim Khalil"
   ]
  },
  {
   "cell_type": "markdown",
   "metadata": {},
   "source": [
    "##**How effective are distance from home and ratio to median purchase price in detecting credit card fraud in online and offline transactions?**\n",
    "\n",
    "Nowadays most of the population uses online shopping as their main way of purchasing goods and services, due to that, many credit card frauds have occurred by people putting their personal bank details into unreliable websites. Having a passion for problem-solving, I finds this research topic very intriguing and interesting. This research question aims to investigate whether distance from home and ratio to median purchase price can be used as indicators to detect credit card fraud in online and offline transactions. The research will involve analyzing a dataset of credit card transactions to identify patterns and trends in the data.The results of this research could potentially inform the development of more effective fraud detection techniques and strategies"
   ]
  }
 ],
 "metadata": {
  "kernelspec": {
   "display_name": "Python 3 (ipykernel)",
   "language": "python",
   "name": "python3"
  }
 },
 "nbformat": 4,
 "nbformat_minor": 4
}
