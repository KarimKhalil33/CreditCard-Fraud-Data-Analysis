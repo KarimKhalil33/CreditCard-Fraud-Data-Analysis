{
 "cells": [
  {
   "cell_type": "markdown",
   "metadata": {},
   "source": [
    "# Karim Khalil"
   ]
  },
  {
   "cell_type": "markdown",
   "metadata": {},
   "source": [
    "##**How does the likelihood of credit card fraud differ between online and offline purchases?**\n",
    "\n",
    "Nowadays most of the population uses online shopping as their main way of purchasing goods and services, due to that, many credit card frauds have occurred by people putting their personal bank details into unreliable websites. Having a passion for problem-solving, He finds this research topic very intriguing and interesting. A topic he seems the most interested in this dataset would be the relation to credit card fraud and if it was paid online or not."
   ]
  }
 ],
 "metadata": {
  "kernelspec": {
   "display_name": "Python 3 (ipykernel)",
   "language": "python",
   "name": "python3"
  }
 },
 "nbformat": 4,
 "nbformat_minor": 4
}
